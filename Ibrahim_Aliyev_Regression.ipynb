{
  "cells": [
    {
      "cell_type": "markdown",
      "metadata": {
        "id": "zlW2mTWyeZRh"
      },
      "source": [
        "# Introduction\n",
        "The purpose of this practical session is to implement a first machine learning model on a regression problem using RidgeRegression and `sklearn`. The dataset we will used is the california housing dataset since well known boston house dataset as ethical issues.\n",
        "\n",
        "This dataset consists in a description of houses by 8 features, each house being associated to a measure of its price. The goal here is to predict the price of an house given its description.\n",
        "## The dataset\n",
        " 1. Import the dataset from sklearn and check the documentation.\n"
      ]
    },
    {
      "cell_type": "code",
      "execution_count": 28,
      "metadata": {
        "colab": {
          "base_uri": "https://localhost:8080/"
        },
        "id": "yep7k4C9eZRk",
        "outputId": "0c1b62d7-9308-4652-f13d-fbbca9e1271f"
      },
      "outputs": [
        {
          "output_type": "stream",
          "name": "stdout",
          "text": [
            "Help on function fetch_california_housing in module sklearn.datasets._california_housing:\n",
            "\n",
            "fetch_california_housing(*, data_home=None, download_if_missing=True, return_X_y=False, as_frame=False)\n",
            "    Load the California housing dataset (regression).\n",
            "    \n",
            "    ==============   ==============\n",
            "    Samples total             20640\n",
            "    Dimensionality                8\n",
            "    Features                   real\n",
            "    Target           real 0.15 - 5.\n",
            "    ==============   ==============\n",
            "    \n",
            "    Read more in the :ref:`User Guide <california_housing_dataset>`.\n",
            "    \n",
            "    Parameters\n",
            "    ----------\n",
            "    data_home : str, default=None\n",
            "        Specify another download and cache folder for the datasets. By default\n",
            "        all scikit-learn data is stored in '~/scikit_learn_data' subfolders.\n",
            "    \n",
            "    download_if_missing : bool, default=True\n",
            "        If False, raise a IOError if the data is not locally available\n",
            "        instead of trying to download the data from the source site.\n",
            "    \n",
            "    \n",
            "    return_X_y : bool, default=False.\n",
            "        If True, returns ``(data.data, data.target)`` instead of a Bunch\n",
            "        object.\n",
            "    \n",
            "        .. versionadded:: 0.20\n",
            "    \n",
            "    as_frame : bool, default=False\n",
            "        If True, the data is a pandas DataFrame including columns with\n",
            "        appropriate dtypes (numeric, string or categorical). The target is\n",
            "        a pandas DataFrame or Series depending on the number of target_columns.\n",
            "    \n",
            "        .. versionadded:: 0.23\n",
            "    \n",
            "    Returns\n",
            "    -------\n",
            "    dataset : :class:`~sklearn.utils.Bunch`\n",
            "        Dictionary-like object, with the following attributes.\n",
            "    \n",
            "        data : ndarray, shape (20640, 8)\n",
            "            Each row corresponding to the 8 feature values in order.\n",
            "            If ``as_frame`` is True, ``data`` is a pandas object.\n",
            "        target : numpy array of shape (20640,)\n",
            "            Each value corresponds to the average\n",
            "            house value in units of 100,000.\n",
            "            If ``as_frame`` is True, ``target`` is a pandas object.\n",
            "        feature_names : list of length 8\n",
            "            Array of ordered feature names used in the dataset.\n",
            "        DESCR : str\n",
            "            Description of the California housing dataset.\n",
            "        frame : pandas DataFrame\n",
            "            Only present when `as_frame=True`. DataFrame with ``data`` and\n",
            "            ``target``.\n",
            "    \n",
            "            .. versionadded:: 0.23\n",
            "    \n",
            "    (data, target) : tuple if ``return_X_y`` is True\n",
            "    \n",
            "        .. versionadded:: 0.20\n",
            "    \n",
            "    Notes\n",
            "    -----\n",
            "    \n",
            "    This dataset consists of 20,640 samples and 9 features.\n",
            "\n"
          ]
        }
      ],
      "source": [
        "from sklearn.datasets import fetch_california_housing\n",
        "help(fetch_california_housing)"
      ]
    },
    {
      "cell_type": "markdown",
      "metadata": {
        "id": "64cwM605eZRl"
      },
      "source": [
        "2. Now, we want to import the dataset into two variables, namely `X` and `y`. `X` will contains the description of data, `y` the outputs associated to each data. Check the dimensions of the two variables"
      ]
    },
    {
      "cell_type": "code",
      "execution_count": 29,
      "metadata": {
        "colab": {
          "base_uri": "https://localhost:8080/"
        },
        "id": "fEdh0IgzeZRl",
        "outputId": "cc0325d8-59a3-453f-9076-8e9733981d38"
      },
      "outputs": [
        {
          "output_type": "stream",
          "name": "stdout",
          "text": [
            "(20640, 8) (20640,)\n"
          ]
        }
      ],
      "source": [
        "#load data\n",
        "X,y = fetch_california_housing(return_X_y=True)\n",
        "\n",
        "# using shape function, we can look dimensions\n",
        "print(X.shape, y.shape)"
      ]
    },
    {
      "cell_type": "markdown",
      "metadata": {
        "id": "zU5hIikpeZRm"
      },
      "source": [
        "## Data analysis\n",
        "\n",
        "Now we will explore our dataset. \n",
        "\n",
        "1. First, plot an histogram of `y` values to check its distribution.You can have a look at `hist` function of matplotlib.pyplot module   "
      ]
    },
    {
      "cell_type": "code",
      "execution_count": 30,
      "metadata": {
        "colab": {
          "base_uri": "https://localhost:8080/",
          "height": 368
        },
        "id": "uFnrPmxbeZRm",
        "outputId": "7d795e8b-fc1f-4dbe-a5f8-b3549922096a"
      },
      "outputs": [
        {
          "output_type": "execute_result",
          "data": {
            "text/plain": [
              "(array([ 877., 3612., 4099., 3771., 2799., 1769., 1239.,  752.,  479.,\n",
              "        1243.]),\n",
              " array([0.14999 , 0.634992, 1.119994, 1.604996, 2.089998, 2.575   ,\n",
              "        3.060002, 3.545004, 4.030006, 4.515008, 5.00001 ]),\n",
              " <a list of 10 Patch objects>)"
            ]
          },
          "metadata": {},
          "execution_count": 30
        },
        {
          "output_type": "display_data",
          "data": {
            "text/plain": [
              "<Figure size 432x288 with 1 Axes>"
            ],
            "image/png": "[encoded data removed]"
          },
          "metadata": {
            "needs_background": "light"
          }
        }
      ],
      "source": [
        "import matplotlib.pyplot as plt\n",
        "plt.title(\"Distribution\")\n",
        "plt.hist(y)"
      ]
    },
    {
      "cell_type": "markdown",
      "metadata": {
        "id": "b_12bZgkeZRm"
      },
      "source": [
        "2. Second, we will check the 13 features included in `X`. Compute mean and standard deviation independantly for each feature.\n"
      ]
    },
    {
      "cell_type": "code",
      "execution_count": 31,
      "metadata": {
        "colab": {
          "base_uri": "https://localhost:8080/"
        },
        "id": "eBbLnR9BeZRm",
        "outputId": "dd14842f-d299-4401-f202-3a15bc2378f9"
      },
      "outputs": [
        {
          "output_type": "stream",
          "name": "stdout",
          "text": [
            "Mean of each feature:  [ 3.87067100e+00  2.86394864e+01  5.42899974e+00  1.09667515e+00\n",
            "  1.42547674e+03  3.07065516e+00  3.56318614e+01 -1.19569704e+02]\n",
            "Standard deviation of each future:  [1.89977569e+00 1.25852527e+01 2.47411320e+00 4.73899376e-01\n",
            " 1.13243469e+03 1.03857980e+01 2.13590065e+00 2.00348319e+00]\n"
          ]
        }
      ],
      "source": [
        "import numpy as np\n",
        "\n",
        "# this dataset has 8 features, not 13 (mentioned wrong in the description of 2nd task above)\n",
        "\n",
        "print(\"Mean of each feature: \", np.mean(X, axis=0))\n",
        "print(\"Standard deviation of each future: \", np.std(X, axis=0))"
      ]
    },
    {
      "cell_type": "markdown",
      "metadata": {
        "id": "kF75hMxneZRn"
      },
      "source": [
        "3. Check this information globally using the `boxplot` function from matplotlib.pyplot"
      ]
    },
    {
      "cell_type": "code",
      "execution_count": 32,
      "metadata": {
        "colab": {
          "base_uri": "https://localhost:8080/",
          "height": 1000
        },
        "id": "WHpdDRwgeZRn",
        "outputId": "b77ea53e-6c01-49bd-b4bd-a06526b5febf"
      },
      "outputs": [
        {
          "output_type": "execute_result",
          "data": {
            "text/plain": [
              "{'whiskers': [<matplotlib.lines.Line2D at 0x7f8aa0ce8fd0>,\n",
              "  <matplotlib.lines.Line2D at 0x7f8aa0cf7370>,\n",
              "  <matplotlib.lines.Line2D at 0x7f8aa0d047f0>,\n",
              "  <matplotlib.lines.Line2D at 0x7f8aa0d04b50>,\n",
              "  <matplotlib.lines.Line2D at 0x7f8aa0d0dfd0>,\n",
              "  <matplotlib.lines.Line2D at 0x7f8aa0d17370>,\n",
              "  <matplotlib.lines.Line2D at 0x7f8aa0ca27f0>,\n",
              "  <matplotlib.lines.Line2D at 0x7f8aa0ca2b50>,\n",
              "  <matplotlib.lines.Line2D at 0x7f8aa0cabfd0>,\n",
              "  <matplotlib.lines.Line2D at 0x7f8aa0cb7370>,\n",
              "  <matplotlib.lines.Line2D at 0x7f8aa0cc17f0>,\n",
              "  <matplotlib.lines.Line2D at 0x7f8aa0cc1b50>,\n",
              "  <matplotlib.lines.Line2D at 0x7f8aa0ccdfd0>,\n",
              "  <matplotlib.lines.Line2D at 0x7f8aa0cd7370>,\n",
              "  <matplotlib.lines.Line2D at 0x7f8aa0c647f0>,\n",
              "  <matplotlib.lines.Line2D at 0x7f8aa0c64b50>],\n",
              " 'caps': [<matplotlib.lines.Line2D at 0x7f8aa0cf76d0>,\n",
              "  <matplotlib.lines.Line2D at 0x7f8aa0cf7a30>,\n",
              "  <matplotlib.lines.Line2D at 0x7f8aa0d04eb0>,\n",
              "  <matplotlib.lines.Line2D at 0x7f8aa0d0d250>,\n",
              "  <matplotlib.lines.Line2D at 0x7f8aa0d176d0>,\n",
              "  <matplotlib.lines.Line2D at 0x7f8aa0d17a30>,\n",
              "  <matplotlib.lines.Line2D at 0x7f8aa0ca2eb0>,\n",
              "  <matplotlib.lines.Line2D at 0x7f8aa0cab250>,\n",
              "  <matplotlib.lines.Line2D at 0x7f8aa0cb76d0>,\n",
              "  <matplotlib.lines.Line2D at 0x7f8aa0cb7a30>,\n",
              "  <matplotlib.lines.Line2D at 0x7f8aa0cc1eb0>,\n",
              "  <matplotlib.lines.Line2D at 0x7f8aa0ccd250>,\n",
              "  <matplotlib.lines.Line2D at 0x7f8aa0cd76d0>,\n",
              "  <matplotlib.lines.Line2D at 0x7f8aa0cd7a30>,\n",
              "  <matplotlib.lines.Line2D at 0x7f8aa0c64eb0>,\n",
              "  <matplotlib.lines.Line2D at 0x7f8aa0c6d250>],\n",
              " 'boxes': [<matplotlib.lines.Line2D at 0x7f8aa0ce8c70>,\n",
              "  <matplotlib.lines.Line2D at 0x7f8aa0d04490>,\n",
              "  <matplotlib.lines.Line2D at 0x7f8aa0d0dc70>,\n",
              "  <matplotlib.lines.Line2D at 0x7f8aa0ca2490>,\n",
              "  <matplotlib.lines.Line2D at 0x7f8aa0cabc70>,\n",
              "  <matplotlib.lines.Line2D at 0x7f8aa0cc1490>,\n",
              "  <matplotlib.lines.Line2D at 0x7f8aa0ccdc70>,\n",
              "  <matplotlib.lines.Line2D at 0x7f8aa0c64490>],\n",
              " 'medians': [<matplotlib.lines.Line2D at 0x7f8aa0cf7d90>,\n",
              "  <matplotlib.lines.Line2D at 0x7f8aa0d0d5b0>,\n",
              "  <matplotlib.lines.Line2D at 0x7f8aa0d17d90>,\n",
              "  <matplotlib.lines.Line2D at 0x7f8aa0cab5b0>,\n",
              "  <matplotlib.lines.Line2D at 0x7f8aa0cb7d90>,\n",
              "  <matplotlib.lines.Line2D at 0x7f8aa0ccd5b0>,\n",
              "  <matplotlib.lines.Line2D at 0x7f8aa0cd7d90>,\n",
              "  <matplotlib.lines.Line2D at 0x7f8aa0c6d5b0>],\n",
              " 'fliers': [<matplotlib.lines.Line2D at 0x7f8aa0d040d0>,\n",
              "  <matplotlib.lines.Line2D at 0x7f8aa0d0d8b0>,\n",
              "  <matplotlib.lines.Line2D at 0x7f8aa0ca20d0>,\n",
              "  <matplotlib.lines.Line2D at 0x7f8aa0cab8b0>,\n",
              "  <matplotlib.lines.Line2D at 0x7f8aa0cc10d0>,\n",
              "  <matplotlib.lines.Line2D at 0x7f8aa0ccd8b0>,\n",
              "  <matplotlib.lines.Line2D at 0x7f8aa0c640d0>,\n",
              "  <matplotlib.lines.Line2D at 0x7f8aa0c6d8b0>],\n",
              " 'means': []}"
            ]
          },
          "metadata": {},
          "execution_count": 32
        },
        {
          "output_type": "display_data",
          "data": {
            "text/plain": [
              "<Figure size 432x288 with 1 Axes>"
            ],
            "image/png": "[encoded data removed]"
          },
          "metadata": {
            "needs_background": "light"
          }
        }
      ],
      "source": [
        "plt.boxplot(X)"
      ]
    },
    {
      "cell_type": "markdown",
      "metadata": {
        "id": "qNX-hliteZRn"
      },
      "source": [
        "4. What do you conclude from this first step ?"
      ]
    },
    {
      "cell_type": "markdown",
      "metadata": {
        "id": "9YruhOZdeZRn"
      },
      "source": [
        "Here in the plot, we can see that the range of values which came from dataset are not the same. That's why to get better result, we can normalize them."
      ]
    },
    {
      "cell_type": "markdown",
      "metadata": {
        "id": "MxQnstEmeZRn"
      },
      "source": [
        "# Machine Learning\n",
        "## Protocol\n",
        "\n",
        "Before starting to learn a model, we have to use a clear and as much as possible unbiased protocol to evaluate our model. This protocol starts by splitting the data into two sets. The first one will be used to learn the parameters of our model, the second one will be used to evaluate the performance of our learning step.\n",
        "\n",
        "1. Split the data into two subsets using the `train_test_split` method from `sklearn.model_selection` module. Use the split ratio of your choice."
      ]
    },
    {
      "cell_type": "code",
      "execution_count": 33,
      "metadata": {
        "colab": {
          "base_uri": "https://localhost:8080/"
        },
        "id": "RxH_l5qTeZRn",
        "outputId": "0f8c25e6-eeed-4a36-8296-85dbf9657fea"
      },
      "outputs": [
        {
          "output_type": "stream",
          "name": "stdout",
          "text": [
            "(20640, 8)\n",
            "(16512, 8) (4128, 8)\n"
          ]
        }
      ],
      "source": [
        "#Split data\n",
        "from sklearn.model_selection import train_test_split\n",
        "\n",
        "print(X.shape)\n",
        "# I split dataset, like 80% to train and 20% to test by defining test_size to 0.2\n",
        "# as you can see, 20640 x 0.2 = 4128\n",
        "X_train, X_test, y_train, y_test = train_test_split(X,y, test_size=0.2)\n",
        "print(X_train.shape, X_test.shape)"
      ]
    },
    {
      "cell_type": "markdown",
      "metadata": {
        "id": "YvhQcoX1eZRn"
      },
      "source": [
        "## Normalization\n",
        "2. Now we should normalize the data according to the observation made in the first section. Take care of not using the test set to compute the parameters required to normalize the data. Compute `X_train_norm` and `X_test_norm` correspondong normalized data `X_train` and `X_test` respectively."
      ]
    },
    {
      "cell_type": "code",
      "execution_count": 34,
      "metadata": {
        "id": "Zs3W4j6aeZRo"
      },
      "outputs": [],
      "source": [
        "#Scale data\n",
        "#Mean and std must be evaluated on train to avoid bias\n",
        "\n",
        "train_mean = np.mean(X_train, axis=0)\n",
        "train_std = np.std(X_train, axis=0)\n",
        "\n",
        "X_train_norm = (X_train - train_mean)/train_std\n",
        "\n",
        "#apply scale to X_test\n",
        "\n",
        "\n",
        "X_test_norm = (X_test - train_mean)/train_std"
      ]
    },
    {
      "cell_type": "markdown",
      "metadata": {
        "id": "fCfxNp5xeZRo"
      },
      "source": [
        "3. Another way to do is to use the `StandardScaler` class from `sklearn.preprocessing` module."
      ]
    },
    {
      "cell_type": "code",
      "execution_count": 35,
      "metadata": {
        "id": "yMnxiRXEeZRo"
      },
      "outputs": [],
      "source": [
        "from sklearn.preprocessing import StandardScaler\n",
        "\n",
        "scaler = StandardScaler()\n",
        "\n",
        "scaler.fit(X_train)\n",
        "\n",
        "X_train_norm = scaler.transform(X_train)\n",
        "X_test_norm = scaler.transform(X_test)"
      ]
    },
    {
      "cell_type": "markdown",
      "metadata": {
        "id": "aWtcEyGVeZRo"
      },
      "source": [
        "## A first model\n",
        "Now our data is normalized we can try to learn our first model in a naive approach. We will use the `Ridge` class from `sklearn.linear_model` which implements the Ridge Regression scheme seen during our lessons.\n",
        "1. Learn a first model using `Ridge` class and `X_train_norm`.\n",
        "2. What is the default $\\lambda$ defined by the `Ridge` class ?"
      ]
    },
    {
      "cell_type": "code",
      "execution_count": 36,
      "metadata": {
        "colab": {
          "base_uri": "https://localhost:8080/"
        },
        "id": "r-nzDuCHeZRo",
        "outputId": "214135d6-c8d4-43cd-9e16-1f0b711a6c9e"
      },
      "outputs": [
        {
          "output_type": "stream",
          "name": "stdout",
          "text": [
            "1.0\n"
          ]
        }
      ],
      "source": [
        "#First Ridge witout scaling and cv\n",
        "from sklearn.linear_model import Ridge\n",
        "\n",
        "regressor = Ridge()\n",
        "\n",
        "# let us see our hyperparameter\n",
        "print(regressor.alpha)"
      ]
    },
    {
      "cell_type": "markdown",
      "metadata": {
        "id": "5xLyMk0HeZRo"
      },
      "source": [
        "3. Train your model on `X_train_norm` and predict the same data. Compute the mean absolute error (MAE)"
      ]
    },
    {
      "cell_type": "code",
      "execution_count": 37,
      "metadata": {
        "colab": {
          "base_uri": "https://localhost:8080/"
        },
        "id": "z763jhdgeZRp",
        "outputId": "16814658-6723-4645-df77-3621bd2718e7"
      },
      "outputs": [
        {
          "output_type": "execute_result",
          "data": {
            "text/plain": [
              "0.5273558766457428"
            ]
          },
          "metadata": {},
          "execution_count": 37
        }
      ],
      "source": [
        "from sklearn.metrics import mean_absolute_error\n",
        "\n",
        "regressor.fit(X_train_norm, y_train)\n",
        "y_train_pred = regressor.predict(X_train_norm)\n",
        "\n",
        "mae_train = mean_absolute_error(y_train, y_train_pred)\n",
        "mae_train"
      ]
    },
    {
      "cell_type": "markdown",
      "metadata": {
        "id": "ROLmy64yeZRp"
      },
      "source": [
        "4. Now predict on `X_test_norm` and measure the MAE. What do you observe ?"
      ]
    },
    {
      "cell_type": "code",
      "execution_count": 38,
      "metadata": {
        "colab": {
          "base_uri": "https://localhost:8080/"
        },
        "id": "v2u-6_Z4eZRp",
        "outputId": "7742950b-3eff-44ef-d475-d0a166229401"
      },
      "outputs": [
        {
          "output_type": "execute_result",
          "data": {
            "text/plain": [
              "0.5363726806237593"
            ]
          },
          "metadata": {},
          "execution_count": 38
        }
      ],
      "source": [
        "y_test_pred = regressor.predict(X_test_norm)\n",
        "\n",
        "mae_test = mean_absolute_error(y_test, y_test_pred)\n",
        "mae_test"
      ]
    },
    {
      "cell_type": "markdown",
      "metadata": {
        "id": "5FOG7AG_eZRp"
      },
      "source": [
        "## Model parameters\n",
        "Both fit to data and regularization terms have an effect on our model parameters $\\mathbf{w}$.\n",
        "1. Print and plot the coefficients $\\mathbf{w}$. There are available from your instance of `Ridge` class."
      ]
    },
    {
      "cell_type": "code",
      "execution_count": 39,
      "metadata": {
        "colab": {
          "base_uri": "https://localhost:8080/"
        },
        "id": "VdeUD9XmeZRp",
        "outputId": "5d541121-35f6-4e7e-c505-72438687b460"
      },
      "outputs": [
        {
          "output_type": "execute_result",
          "data": {
            "text/plain": [
              "array([ 0.84656539,  0.1227611 , -0.30443199,  0.34943985,  0.0026617 ,\n",
              "       -0.03802033, -0.90580591, -0.87708174])"
            ]
          },
          "metadata": {},
          "execution_count": 39
        }
      ],
      "source": [
        "regressor.coef_"
      ]
    },
    {
      "cell_type": "markdown",
      "metadata": {
        "id": "1GqocIwReZRp"
      },
      "source": [
        "2. Change the $\\lambda$ value of your parameter to 1000. Retrain your model, recompute the prediction error. What do you observe ? \n",
        "\n",
        "Be careful, in `sklearn` $\\lambda$ parameter is denoted as $\\alpha$"
      ]
    },
    {
      "cell_type": "code",
      "execution_count": 40,
      "metadata": {
        "colab": {
          "base_uri": "https://localhost:8080/"
        },
        "id": "RJVTlKwfeZRq",
        "outputId": "367bb2fd-b74d-4bd3-c7fd-af49312bb820"
      },
      "outputs": [
        {
          "output_type": "stream",
          "name": "stdout",
          "text": [
            "MAE for train:  0.5458891339115564\n",
            "MAE for test:  0.5447028334598004\n"
          ]
        }
      ],
      "source": [
        "regressor = Ridge(alpha=1000)\n",
        "\n",
        "regressor.fit(X_train_norm, y_train)\n",
        "\n",
        "y_train_pred = regressor.predict(X_train_norm)\n",
        "y_test_pred = regressor.predict(X_test_norm)\n",
        "\n",
        "\n",
        "mae_train = mean_absolute_error(y_train, y_train_pred)\n",
        "mae_test = mean_absolute_error(y_test, y_test_pred)\n",
        "\n",
        "print(\"MAE for train: \", mae_train)\n",
        "print(\"MAE for test: \", mae_test)\n",
        "\n",
        "# Values of MAE train and test, both were increased\n",
        "# I suppose if we will increase value of lambda, then our result will be increased too"
      ]
    },
    {
      "cell_type": "markdown",
      "metadata": {
        "id": "no8zWHZ0eZRq"
      },
      "source": [
        "3. Now check your model parameters and compared them to your model when $\\lambda = 1$. What do you conclude ?"
      ]
    },
    {
      "cell_type": "code",
      "execution_count": 41,
      "metadata": {
        "colab": {
          "base_uri": "https://localhost:8080/"
        },
        "id": "vK9QzpoTeZRq",
        "outputId": "33fc3ff9-7113-42cb-d9ec-abe938951b60"
      },
      "outputs": [
        {
          "output_type": "execute_result",
          "data": {
            "text/plain": [
              "array([ 0.77552772,  0.15524126, -0.149757  ,  0.17395208,  0.01349203,\n",
              "       -0.03907893, -0.51319973, -0.47655429])"
            ]
          },
          "metadata": {},
          "execution_count": 41
        }
      ],
      "source": [
        "regressor.coef_\n",
        "# I suppose if we will increase value of lambda, then our result will be increased too"
      ]
    },
    {
      "cell_type": "markdown",
      "metadata": {
        "id": "K_sf084_eZRq"
      },
      "source": [
        "## Finding the best $\\lambda$\n",
        "Since $\\lambda$ may have a strong effect on your model performance, we need to find the best possible value according to the dataset we work on. \n",
        "1. Try different values for $\\lambda$ and evaluate the performances. Use a log scale of values between $10^{-3}$ to $10^{4}$ , i.e. `alphas = np.logspace(-3,4,10)`."
      ]
    },
    {
      "cell_type": "code",
      "execution_count": 42,
      "metadata": {
        "colab": {
          "base_uri": "https://localhost:8080/"
        },
        "id": "dCPqilgdeZRq",
        "outputId": "bfc353f8-6019-47be-8aa6-fa39fa1cf1a9"
      },
      "outputs": [
        {
          "output_type": "stream",
          "name": "stdout",
          "text": [
            "[0.5273599204462824, 0.5273599001846081, 0.5273597787281998, 0.5273590509444727, 0.5273547126784497, 0.5273318099906835, 0.5273153096207016, 0.5298116166232462, 0.5603989603047828, 0.6563958455700659] [0.5363910254870766, 0.5363909336737075, 0.5363903832864118, 0.5363870844980461, 0.5363673337901248, 0.5362535599283242, 0.5356664985004098, 0.5350372568493523, 0.5567830380177593, 0.6513809963238197] [array([ 0.84661914,  0.12268317, -0.30462992,  0.34968897,  0.00263574,\n",
            "       -0.03801708, -0.90657925, -0.87786476]), array([ 0.84661887,  0.12268356, -0.30462893,  0.34968772,  0.00263587,\n",
            "       -0.0380171 , -0.90657538, -0.87786084]), array([ 0.84661726,  0.1226859 , -0.30462299,  0.34968026,  0.00263665,\n",
            "       -0.03801719, -0.90655217, -0.87783735]), array([ 0.84660761,  0.12269992, -0.30458743,  0.34963549,  0.00264132,\n",
            "       -0.03801778, -0.90641311, -0.87769655]), array([ 0.84654967,  0.12278381, -0.30437422,  0.34936717,  0.00266926,\n",
            "       -0.03802127, -0.90558052, -0.87685352]), array([ 0.84619817,  0.12328235, -0.3030951 ,  0.3477611 ,  0.00283533,\n",
            "       -0.03804208, -0.90062706, -0.87183738]), array([ 0.84395751,  0.12612095, -0.29540963,  0.33823099,  0.00378147,\n",
            "       -0.03816201, -0.8722255 , -0.84305585]), array([ 0.8277987 ,  0.13891717, -0.25101993,  0.28581556,  0.00805466,\n",
            "       -0.03871153, -0.7377556 , -0.7063261 ]), array([ 0.73501537,  0.15787291, -0.09352037,  0.11420778,  0.01438347,\n",
            "       -0.0385062 , -0.40871776, -0.36932655]), array([ 0.48138287,  0.10817549,  0.04090273, -0.02089284,  0.00276646,\n",
            "       -0.02699267, -0.14122009, -0.10054003])]\n"
          ]
        }
      ],
      "source": [
        "mae_train = []\n",
        "mae_test = []\n",
        "coefs = []\n",
        "alphas = np.logspace(-3,4,10)\n",
        "for alpha in alphas:\n",
        "  regressor = Ridge(alpha=alpha)\n",
        "  regressor.fit(X_train_norm, y_train)\n",
        "  y_train_pred = regressor.predict(X_train_norm)\n",
        "  y_test_pred = regressor.predict(X_test_norm)\n",
        "  mae_train.append(mean_absolute_error(y_train, y_train_pred))\n",
        "  mae_test.append(mean_absolute_error(y_test, y_test_pred))\n",
        "  coefs.append(regressor.coef_)\n",
        "\n",
        "\n",
        "print(mae_train, mae_test, coefs)"
      ]
    },
    {
      "cell_type": "markdown",
      "metadata": {
        "id": "6XWjEfBeeZRq"
      },
      "source": [
        " 2. What is the best value for $\\lambda$ ? "
      ]
    },
    {
      "cell_type": "markdown",
      "metadata": {
        "id": "-KHYzSPfeZRq"
      },
      "source": [
        "10000, last one as it increases the value"
      ]
    },
    {
      "cell_type": "code",
      "source": [
        "\n",
        "plt.plot(alphas, mae_train, label='train')\n",
        "plt.plot(alphas, mae_test, label='test')\n",
        "plt.xscale(\"log\")\n",
        "plt.legend()"
      ],
      "metadata": {
        "colab": {
          "base_uri": "https://localhost:8080/",
          "height": 286
        },
        "id": "J0VCckLeUV4k",
        "outputId": "8ac63fc6-212f-453e-d63b-5680d8bed839"
      },
      "execution_count": 43,
      "outputs": [
        {
          "output_type": "execute_result",
          "data": {
            "text/plain": [
              "<matplotlib.legend.Legend at 0x7f8aa0c308e0>"
            ]
          },
          "metadata": {},
          "execution_count": 43
        },
        {
          "output_type": "display_data",
          "data": {
            "text/plain": [
              "<Figure size 432x288 with 1 Axes>"
            ],
            "image/png": "[encoded data removed]"
          },
          "metadata": {
            "needs_background": "light"
          }
        }
      ]
    },
    {
      "cell_type": "markdown",
      "metadata": {
        "id": "sfiDIv0KeZRr"
      },
      "source": [
        "3. Plot the different values of $\\mathbf{w}$ parameters for each $\\lambda$ values. Discuss.\n"
      ]
    },
    {
      "cell_type": "code",
      "execution_count": 44,
      "metadata": {
        "colab": {
          "base_uri": "https://localhost:8080/",
          "height": 282
        },
        "id": "4tPAfVz8eZRr",
        "outputId": "f71eacdd-796a-4d4e-b94c-3e8389711dae"
      },
      "outputs": [
        {
          "output_type": "execute_result",
          "data": {
            "text/plain": [
              "[<matplotlib.lines.Line2D at 0x7f8aa1069940>]"
            ]
          },
          "metadata": {},
          "execution_count": 44
        },
        {
          "output_type": "display_data",
          "data": {
            "text/plain": [
              "<Figure size 432x288 with 1 Axes>"
            ],
            "image/png": "[encoded data removed]"
          },
          "metadata": {
            "needs_background": "light"
          }
        }
      ],
      "source": [
        "plt.plot(np.log(alphas), [np.linalg.norm(c) for c in coefs])"
      ]
    },
    {
      "cell_type": "markdown",
      "metadata": {
        "id": "tC7QULL2eZRr"
      },
      "source": [
        "### Cross validation\n",
        "To find the best $\\lambda$ value, we should use only the train set. To evaluate the performance on unseen data without using test set, we will simulate it by splitting the train set into a new train set and a validation set used to evaluate the performance according to $\\lambda$. A good practice is to repeat this split to have a better estimation of the performance. \n",
        "\n",
        "`sklearn` provide a class `GridSearchCV` in `sklearn.model_selection` which implements this protocol.\n",
        "1. Check the documentation of `GridSearchCV`"
      ]
    },
    {
      "cell_type": "code",
      "execution_count": 45,
      "metadata": {
        "colab": {
          "base_uri": "https://localhost:8080/"
        },
        "id": "71mx8nS6eZRr",
        "outputId": "e56b107c-5952-4a75-97fd-d6c6bcc05ecb"
      },
      "outputs": [
        {
          "output_type": "stream",
          "name": "stdout",
          "text": [
            "Help on class GridSearchCV in module sklearn.model_selection._search:\n",
            "\n",
            "class GridSearchCV(BaseSearchCV)\n",
            " |  GridSearchCV(estimator, param_grid, *, scoring=None, n_jobs=None, refit=True, cv=None, verbose=0, pre_dispatch='2*n_jobs', error_score=nan, return_train_score=False)\n",
            " |  \n",
            " |  Exhaustive search over specified parameter values for an estimator.\n",
            " |  \n",
            " |  Important members are fit, predict.\n",
            " |  \n",
            " |  GridSearchCV implements a \"fit\" and a \"score\" method.\n",
            " |  It also implements \"score_samples\", \"predict\", \"predict_proba\",\n",
            " |  \"decision_function\", \"transform\" and \"inverse_transform\" if they are\n",
            " |  implemented in the estimator used.\n",
            " |  \n",
            " |  The parameters of the estimator used to apply these methods are optimized\n",
            " |  by cross-validated grid-search over a parameter grid.\n",
            " |  \n",
            " |  Read more in the :ref:`User Guide <grid_search>`.\n",
            " |  \n",
            " |  Parameters\n",
            " |  ----------\n",
            " |  estimator : estimator object\n",
            " |      This is assumed to implement the scikit-learn estimator interface.\n",
            " |      Either estimator needs to provide a ``score`` function,\n",
            " |      or ``scoring`` must be passed.\n",
            " |  \n",
            " |  param_grid : dict or list of dictionaries\n",
            " |      Dictionary with parameters names (`str`) as keys and lists of\n",
            " |      parameter settings to try as values, or a list of such\n",
            " |      dictionaries, in which case the grids spanned by each dictionary\n",
            " |      in the list are explored. This enables searching over any sequence\n",
            " |      of parameter settings.\n",
            " |  \n",
            " |  scoring : str, callable, list, tuple or dict, default=None\n",
            " |      Strategy to evaluate the performance of the cross-validated model on\n",
            " |      the test set.\n",
            " |  \n",
            " |      If `scoring` represents a single score, one can use:\n",
            " |  \n",
            " |      - a single string (see :ref:`scoring_parameter`);\n",
            " |      - a callable (see :ref:`scoring`) that returns a single value.\n",
            " |  \n",
            " |      If `scoring` represents multiple scores, one can use:\n",
            " |  \n",
            " |      - a list or tuple of unique strings;\n",
            " |      - a callable returning a dictionary where the keys are the metric\n",
            " |        names and the values are the metric scores;\n",
            " |      - a dictionary with metric names as keys and callables a values.\n",
            " |  \n",
            " |      See :ref:`multimetric_grid_search` for an example.\n",
            " |  \n",
            " |  n_jobs : int, default=None\n",
            " |      Number of jobs to run in parallel.\n",
            " |      ``None`` means 1 unless in a :obj:`joblib.parallel_backend` context.\n",
            " |      ``-1`` means using all processors. See :term:`Glossary <n_jobs>`\n",
            " |      for more details.\n",
            " |  \n",
            " |      .. versionchanged:: v0.20\n",
            " |         `n_jobs` default changed from 1 to None\n",
            " |  \n",
            " |  refit : bool, str, or callable, default=True\n",
            " |      Refit an estimator using the best found parameters on the whole\n",
            " |      dataset.\n",
            " |  \n",
            " |      For multiple metric evaluation, this needs to be a `str` denoting the\n",
            " |      scorer that would be used to find the best parameters for refitting\n",
            " |      the estimator at the end.\n",
            " |  \n",
            " |      Where there are considerations other than maximum score in\n",
            " |      choosing a best estimator, ``refit`` can be set to a function which\n",
            " |      returns the selected ``best_index_`` given ``cv_results_``. In that\n",
            " |      case, the ``best_estimator_`` and ``best_params_`` will be set\n",
            " |      according to the returned ``best_index_`` while the ``best_score_``\n",
            " |      attribute will not be available.\n",
            " |  \n",
            " |      The refitted estimator is made available at the ``best_estimator_``\n",
            " |      attribute and permits using ``predict`` directly on this\n",
            " |      ``GridSearchCV`` instance.\n",
            " |  \n",
            " |      Also for multiple metric evaluation, the attributes ``best_index_``,\n",
            " |      ``best_score_`` and ``best_params_`` will only be available if\n",
            " |      ``refit`` is set and all of them will be determined w.r.t this specific\n",
            " |      scorer.\n",
            " |  \n",
            " |      See ``scoring`` parameter to know more about multiple metric\n",
            " |      evaluation.\n",
            " |  \n",
            " |      .. versionchanged:: 0.20\n",
            " |          Support for callable added.\n",
            " |  \n",
            " |  cv : int, cross-validation generator or an iterable, default=None\n",
            " |      Determines the cross-validation splitting strategy.\n",
            " |      Possible inputs for cv are:\n",
            " |  \n",
            " |      - None, to use the default 5-fold cross validation,\n",
            " |      - integer, to specify the number of folds in a `(Stratified)KFold`,\n",
            " |      - :term:`CV splitter`,\n",
            " |      - An iterable yielding (train, test) splits as arrays of indices.\n",
            " |  \n",
            " |      For integer/None inputs, if the estimator is a classifier and ``y`` is\n",
            " |      either binary or multiclass, :class:`StratifiedKFold` is used. In all\n",
            " |      other cases, :class:`KFold` is used. These splitters are instantiated\n",
            " |      with `shuffle=False` so the splits will be the same across calls.\n",
            " |  \n",
            " |      Refer :ref:`User Guide <cross_validation>` for the various\n",
            " |      cross-validation strategies that can be used here.\n",
            " |  \n",
            " |      .. versionchanged:: 0.22\n",
            " |          ``cv`` default value if None changed from 3-fold to 5-fold.\n",
            " |  \n",
            " |  verbose : int\n",
            " |      Controls the verbosity: the higher, the more messages.\n",
            " |  \n",
            " |      - >1 : the computation time for each fold and parameter candidate is\n",
            " |        displayed;\n",
            " |      - >2 : the score is also displayed;\n",
            " |      - >3 : the fold and candidate parameter indexes are also displayed\n",
            " |        together with the starting time of the computation.\n",
            " |  \n",
            " |  pre_dispatch : int, or str, default='2*n_jobs'\n",
            " |      Controls the number of jobs that get dispatched during parallel\n",
            " |      execution. Reducing this number can be useful to avoid an\n",
            " |      explosion of memory consumption when more jobs get dispatched\n",
            " |      than CPUs can process. This parameter can be:\n",
            " |  \n",
            " |          - None, in which case all the jobs are immediately\n",
            " |            created and spawned. Use this for lightweight and\n",
            " |            fast-running jobs, to avoid delays due to on-demand\n",
            " |            spawning of the jobs\n",
            " |  \n",
            " |          - An int, giving the exact number of total jobs that are\n",
            " |            spawned\n",
            " |  \n",
            " |          - A str, giving an expression as a function of n_jobs,\n",
            " |            as in '2*n_jobs'\n",
            " |  \n",
            " |  error_score : 'raise' or numeric, default=np.nan\n",
            " |      Value to assign to the score if an error occurs in estimator fitting.\n",
            " |      If set to 'raise', the error is raised. If a numeric value is given,\n",
            " |      FitFailedWarning is raised. This parameter does not affect the refit\n",
            " |      step, which will always raise the error.\n",
            " |  \n",
            " |  return_train_score : bool, default=False\n",
            " |      If ``False``, the ``cv_results_`` attribute will not include training\n",
            " |      scores.\n",
            " |      Computing training scores is used to get insights on how different\n",
            " |      parameter settings impact the overfitting/underfitting trade-off.\n",
            " |      However computing the scores on the training set can be computationally\n",
            " |      expensive and is not strictly required to select the parameters that\n",
            " |      yield the best generalization performance.\n",
            " |  \n",
            " |      .. versionadded:: 0.19\n",
            " |  \n",
            " |      .. versionchanged:: 0.21\n",
            " |          Default value was changed from ``True`` to ``False``\n",
            " |  \n",
            " |  Attributes\n",
            " |  ----------\n",
            " |  cv_results_ : dict of numpy (masked) ndarrays\n",
            " |      A dict with keys as column headers and values as columns, that can be\n",
            " |      imported into a pandas ``DataFrame``.\n",
            " |  \n",
            " |      For instance the below given table\n",
            " |  \n",
            " |      +------------+-----------+------------+-----------------+---+---------+\n",
            " |      |param_kernel|param_gamma|param_degree|split0_test_score|...|rank_t...|\n",
            " |      +============+===========+============+=================+===+=========+\n",
            " |      |  'poly'    |     --    |      2     |       0.80      |...|    2    |\n",
            " |      +------------+-----------+------------+-----------------+---+---------+\n",
            " |      |  'poly'    |     --    |      3     |       0.70      |...|    4    |\n",
            " |      +------------+-----------+------------+-----------------+---+---------+\n",
            " |      |  'rbf'     |     0.1   |     --     |       0.80      |...|    3    |\n",
            " |      +------------+-----------+------------+-----------------+---+---------+\n",
            " |      |  'rbf'     |     0.2   |     --     |       0.93      |...|    1    |\n",
            " |      +------------+-----------+------------+-----------------+---+---------+\n",
            " |  \n",
            " |      will be represented by a ``cv_results_`` dict of::\n",
            " |  \n",
            " |          {\n",
            " |          'param_kernel': masked_array(data = ['poly', 'poly', 'rbf', 'rbf'],\n",
            " |                                       mask = [False False False False]...)\n",
            " |          'param_gamma': masked_array(data = [-- -- 0.1 0.2],\n",
            " |                                      mask = [ True  True False False]...),\n",
            " |          'param_degree': masked_array(data = [2.0 3.0 -- --],\n",
            " |                                       mask = [False False  True  True]...),\n",
            " |          'split0_test_score'  : [0.80, 0.70, 0.80, 0.93],\n",
            " |          'split1_test_score'  : [0.82, 0.50, 0.70, 0.78],\n",
            " |          'mean_test_score'    : [0.81, 0.60, 0.75, 0.85],\n",
            " |          'std_test_score'     : [0.01, 0.10, 0.05, 0.08],\n",
            " |          'rank_test_score'    : [2, 4, 3, 1],\n",
            " |          'split0_train_score' : [0.80, 0.92, 0.70, 0.93],\n",
            " |          'split1_train_score' : [0.82, 0.55, 0.70, 0.87],\n",
            " |          'mean_train_score'   : [0.81, 0.74, 0.70, 0.90],\n",
            " |          'std_train_score'    : [0.01, 0.19, 0.00, 0.03],\n",
            " |          'mean_fit_time'      : [0.73, 0.63, 0.43, 0.49],\n",
            " |          'std_fit_time'       : [0.01, 0.02, 0.01, 0.01],\n",
            " |          'mean_score_time'    : [0.01, 0.06, 0.04, 0.04],\n",
            " |          'std_score_time'     : [0.00, 0.00, 0.00, 0.01],\n",
            " |          'params'             : [{'kernel': 'poly', 'degree': 2}, ...],\n",
            " |          }\n",
            " |  \n",
            " |      NOTE\n",
            " |  \n",
            " |      The key ``'params'`` is used to store a list of parameter\n",
            " |      settings dicts for all the parameter candidates.\n",
            " |  \n",
            " |      The ``mean_fit_time``, ``std_fit_time``, ``mean_score_time`` and\n",
            " |      ``std_score_time`` are all in seconds.\n",
            " |  \n",
            " |      For multi-metric evaluation, the scores for all the scorers are\n",
            " |      available in the ``cv_results_`` dict at the keys ending with that\n",
            " |      scorer's name (``'_<scorer_name>'``) instead of ``'_score'`` shown\n",
            " |      above. ('split0_test_precision', 'mean_train_precision' etc.)\n",
            " |  \n",
            " |  best_estimator_ : estimator\n",
            " |      Estimator that was chosen by the search, i.e. estimator\n",
            " |      which gave highest score (or smallest loss if specified)\n",
            " |      on the left out data. Not available if ``refit=False``.\n",
            " |  \n",
            " |      See ``refit`` parameter for more information on allowed values.\n",
            " |  \n",
            " |  best_score_ : float\n",
            " |      Mean cross-validated score of the best_estimator\n",
            " |  \n",
            " |      For multi-metric evaluation, this is present only if ``refit`` is\n",
            " |      specified.\n",
            " |  \n",
            " |      This attribute is not available if ``refit`` is a function.\n",
            " |  \n",
            " |  best_params_ : dict\n",
            " |      Parameter setting that gave the best results on the hold out data.\n",
            " |  \n",
            " |      For multi-metric evaluation, this is present only if ``refit`` is\n",
            " |      specified.\n",
            " |  \n",
            " |  best_index_ : int\n",
            " |      The index (of the ``cv_results_`` arrays) which corresponds to the best\n",
            " |      candidate parameter setting.\n",
            " |  \n",
            " |      The dict at ``search.cv_results_['params'][search.best_index_]`` gives\n",
            " |      the parameter setting for the best model, that gives the highest\n",
            " |      mean score (``search.best_score_``).\n",
            " |  \n",
            " |      For multi-metric evaluation, this is present only if ``refit`` is\n",
            " |      specified.\n",
            " |  \n",
            " |  scorer_ : function or a dict\n",
            " |      Scorer function used on the held out data to choose the best\n",
            " |      parameters for the model.\n",
            " |  \n",
            " |      For multi-metric evaluation, this attribute holds the validated\n",
            " |      ``scoring`` dict which maps the scorer key to the scorer callable.\n",
            " |  \n",
            " |  n_splits_ : int\n",
            " |      The number of cross-validation splits (folds/iterations).\n",
            " |  \n",
            " |  refit_time_ : float\n",
            " |      Seconds used for refitting the best model on the whole dataset.\n",
            " |  \n",
            " |      This is present only if ``refit`` is not False.\n",
            " |  \n",
            " |      .. versionadded:: 0.20\n",
            " |  \n",
            " |  multimetric_ : bool\n",
            " |      Whether or not the scorers compute several metrics.\n",
            " |  \n",
            " |  classes_ : ndarray of shape (n_classes,)\n",
            " |      The classes labels. This is present only if ``refit`` is specified and\n",
            " |      the underlying estimator is a classifier.\n",
            " |  \n",
            " |  n_features_in_ : int\n",
            " |      Number of features seen during :term:`fit`. Only defined if\n",
            " |      `best_estimator_` is defined (see the documentation for the `refit`\n",
            " |      parameter for more details) and that `best_estimator_` exposes\n",
            " |      `n_features_in_` when fit.\n",
            " |  \n",
            " |      .. versionadded:: 0.24\n",
            " |  \n",
            " |  feature_names_in_ : ndarray of shape (`n_features_in_`,)\n",
            " |      Names of features seen during :term:`fit`. Only defined if\n",
            " |      `best_estimator_` is defined (see the documentation for the `refit`\n",
            " |      parameter for more details) and that `best_estimator_` exposes\n",
            " |      `feature_names_in_` when fit.\n",
            " |  \n",
            " |      .. versionadded:: 1.0\n",
            " |  \n",
            " |  Notes\n",
            " |  -----\n",
            " |  The parameters selected are those that maximize the score of the left out\n",
            " |  data, unless an explicit score is passed in which case it is used instead.\n",
            " |  \n",
            " |  If `n_jobs` was set to a value higher than one, the data is copied for each\n",
            " |  point in the grid (and not `n_jobs` times). This is done for efficiency\n",
            " |  reasons if individual jobs take very little time, but may raise errors if\n",
            " |  the dataset is large and not enough memory is available.  A workaround in\n",
            " |  this case is to set `pre_dispatch`. Then, the memory is copied only\n",
            " |  `pre_dispatch` many times. A reasonable value for `pre_dispatch` is `2 *\n",
            " |  n_jobs`.\n",
            " |  \n",
            " |  See Also\n",
            " |  ---------\n",
            " |  ParameterGrid : Generates all the combinations of a hyperparameter grid.\n",
            " |  train_test_split : Utility function to split the data into a development\n",
            " |      set usable for fitting a GridSearchCV instance and an evaluation set\n",
            " |      for its final evaluation.\n",
            " |  sklearn.metrics.make_scorer : Make a scorer from a performance metric or\n",
            " |      loss function.\n",
            " |  \n",
            " |  Examples\n",
            " |  --------\n",
            " |  >>> from sklearn import svm, datasets\n",
            " |  >>> from sklearn.model_selection import GridSearchCV\n",
            " |  >>> iris = datasets.load_iris()\n",
            " |  >>> parameters = {'kernel':('linear', 'rbf'), 'C':[1, 10]}\n",
            " |  >>> svc = svm.SVC()\n",
            " |  >>> clf = GridSearchCV(svc, parameters)\n",
            " |  >>> clf.fit(iris.data, iris.target)\n",
            " |  GridSearchCV(estimator=SVC(),\n",
            " |               param_grid={'C': [1, 10], 'kernel': ('linear', 'rbf')})\n",
            " |  >>> sorted(clf.cv_results_.keys())\n",
            " |  ['mean_fit_time', 'mean_score_time', 'mean_test_score',...\n",
            " |   'param_C', 'param_kernel', 'params',...\n",
            " |   'rank_test_score', 'split0_test_score',...\n",
            " |   'split2_test_score', ...\n",
            " |   'std_fit_time', 'std_score_time', 'std_test_score']\n",
            " |  \n",
            " |  Method resolution order:\n",
            " |      GridSearchCV\n",
            " |      BaseSearchCV\n",
            " |      sklearn.base.MetaEstimatorMixin\n",
            " |      sklearn.base.BaseEstimator\n",
            " |      builtins.object\n",
            " |  \n",
            " |  Methods defined here:\n",
            " |  \n",
            " |  __init__(self, estimator, param_grid, *, scoring=None, n_jobs=None, refit=True, cv=None, verbose=0, pre_dispatch='2*n_jobs', error_score=nan, return_train_score=False)\n",
            " |      Initialize self.  See help(type(self)) for accurate signature.\n",
            " |  \n",
            " |  ----------------------------------------------------------------------\n",
            " |  Data and other attributes defined here:\n",
            " |  \n",
            " |  __abstractmethods__ = frozenset()\n",
            " |  \n",
            " |  ----------------------------------------------------------------------\n",
            " |  Methods inherited from BaseSearchCV:\n",
            " |  \n",
            " |  decision_function(self, X)\n",
            " |      Call decision_function on the estimator with the best found parameters.\n",
            " |      \n",
            " |      Only available if ``refit=True`` and the underlying estimator supports\n",
            " |      ``decision_function``.\n",
            " |      \n",
            " |      Parameters\n",
            " |      ----------\n",
            " |      X : indexable, length n_samples\n",
            " |          Must fulfill the input assumptions of the\n",
            " |          underlying estimator.\n",
            " |      \n",
            " |      Returns\n",
            " |      -------\n",
            " |      y_score : ndarray of shape (n_samples,) or (n_samples, n_classes)                 or (n_samples, n_classes * (n_classes-1) / 2)\n",
            " |          Result of the decision function for `X` based on the estimator with\n",
            " |          the best found parameters.\n",
            " |  \n",
            " |  fit(self, X, y=None, *, groups=None, **fit_params)\n",
            " |      Run fit with all sets of parameters.\n",
            " |      \n",
            " |      Parameters\n",
            " |      ----------\n",
            " |      \n",
            " |      X : array-like of shape (n_samples, n_features)\n",
            " |          Training vector, where `n_samples` is the number of samples and\n",
            " |          `n_features` is the number of features.\n",
            " |      \n",
            " |      y : array-like of shape (n_samples, n_output)             or (n_samples,), default=None\n",
            " |          Target relative to X for classification or regression;\n",
            " |          None for unsupervised learning.\n",
            " |      \n",
            " |      groups : array-like of shape (n_samples,), default=None\n",
            " |          Group labels for the samples used while splitting the dataset into\n",
            " |          train/test set. Only used in conjunction with a \"Group\" :term:`cv`\n",
            " |          instance (e.g., :class:`~sklearn.model_selection.GroupKFold`).\n",
            " |      \n",
            " |      **fit_params : dict of str -> object\n",
            " |          Parameters passed to the ``fit`` method of the estimator.\n",
            " |      \n",
            " |      Returns\n",
            " |      -------\n",
            " |      self : object\n",
            " |          Instance of fitted estimator.\n",
            " |  \n",
            " |  inverse_transform(self, Xt)\n",
            " |      Call inverse_transform on the estimator with the best found params.\n",
            " |      \n",
            " |      Only available if the underlying estimator implements\n",
            " |      ``inverse_transform`` and ``refit=True``.\n",
            " |      \n",
            " |      Parameters\n",
            " |      ----------\n",
            " |      Xt : indexable, length n_samples\n",
            " |          Must fulfill the input assumptions of the\n",
            " |          underlying estimator.\n",
            " |      \n",
            " |      Returns\n",
            " |      -------\n",
            " |      X : {ndarray, sparse matrix} of shape (n_samples, n_features)\n",
            " |          Result of the `inverse_transform` function for `Xt` based on the\n",
            " |          estimator with the best found parameters.\n",
            " |  \n",
            " |  predict(self, X)\n",
            " |      Call predict on the estimator with the best found parameters.\n",
            " |      \n",
            " |      Only available if ``refit=True`` and the underlying estimator supports\n",
            " |      ``predict``.\n",
            " |      \n",
            " |      Parameters\n",
            " |      ----------\n",
            " |      X : indexable, length n_samples\n",
            " |          Must fulfill the input assumptions of the\n",
            " |          underlying estimator.\n",
            " |      \n",
            " |      Returns\n",
            " |      -------\n",
            " |      y_pred : ndarray of shape (n_samples,)\n",
            " |          The predicted labels or values for `X` based on the estimator with\n",
            " |          the best found parameters.\n",
            " |  \n",
            " |  predict_log_proba(self, X)\n",
            " |      Call predict_log_proba on the estimator with the best found parameters.\n",
            " |      \n",
            " |      Only available if ``refit=True`` and the underlying estimator supports\n",
            " |      ``predict_log_proba``.\n",
            " |      \n",
            " |      Parameters\n",
            " |      ----------\n",
            " |      X : indexable, length n_samples\n",
            " |          Must fulfill the input assumptions of the\n",
            " |          underlying estimator.\n",
            " |      \n",
            " |      Returns\n",
            " |      -------\n",
            " |      y_pred : ndarray of shape (n_samples,) or (n_samples, n_classes)\n",
            " |          Predicted class log-probabilities for `X` based on the estimator\n",
            " |          with the best found parameters. The order of the classes\n",
            " |          corresponds to that in the fitted attribute :term:`classes_`.\n",
            " |  \n",
            " |  predict_proba(self, X)\n",
            " |      Call predict_proba on the estimator with the best found parameters.\n",
            " |      \n",
            " |      Only available if ``refit=True`` and the underlying estimator supports\n",
            " |      ``predict_proba``.\n",
            " |      \n",
            " |      Parameters\n",
            " |      ----------\n",
            " |      X : indexable, length n_samples\n",
            " |          Must fulfill the input assumptions of the\n",
            " |          underlying estimator.\n",
            " |      \n",
            " |      Returns\n",
            " |      -------\n",
            " |      y_pred : ndarray of shape (n_samples,) or (n_samples, n_classes)\n",
            " |          Predicted class probabilities for `X` based on the estimator with\n",
            " |          the best found parameters. The order of the classes corresponds\n",
            " |          to that in the fitted attribute :term:`classes_`.\n",
            " |  \n",
            " |  score(self, X, y=None)\n",
            " |      Return the score on the given data, if the estimator has been refit.\n",
            " |      \n",
            " |      This uses the score defined by ``scoring`` where provided, and the\n",
            " |      ``best_estimator_.score`` method otherwise.\n",
            " |      \n",
            " |      Parameters\n",
            " |      ----------\n",
            " |      X : array-like of shape (n_samples, n_features)\n",
            " |          Input data, where `n_samples` is the number of samples and\n",
            " |          `n_features` is the number of features.\n",
            " |      \n",
            " |      y : array-like of shape (n_samples, n_output)             or (n_samples,), default=None\n",
            " |          Target relative to X for classification or regression;\n",
            " |          None for unsupervised learning.\n",
            " |      \n",
            " |      Returns\n",
            " |      -------\n",
            " |      score : float\n",
            " |          The score defined by ``scoring`` if provided, and the\n",
            " |          ``best_estimator_.score`` method otherwise.\n",
            " |  \n",
            " |  score_samples(self, X)\n",
            " |      Call score_samples on the estimator with the best found parameters.\n",
            " |      \n",
            " |      Only available if ``refit=True`` and the underlying estimator supports\n",
            " |      ``score_samples``.\n",
            " |      \n",
            " |      .. versionadded:: 0.24\n",
            " |      \n",
            " |      Parameters\n",
            " |      ----------\n",
            " |      X : iterable\n",
            " |          Data to predict on. Must fulfill input requirements\n",
            " |          of the underlying estimator.\n",
            " |      \n",
            " |      Returns\n",
            " |      -------\n",
            " |      y_score : ndarray of shape (n_samples,)\n",
            " |          The ``best_estimator_.score_samples`` method.\n",
            " |  \n",
            " |  transform(self, X)\n",
            " |      Call transform on the estimator with the best found parameters.\n",
            " |      \n",
            " |      Only available if the underlying estimator supports ``transform`` and\n",
            " |      ``refit=True``.\n",
            " |      \n",
            " |      Parameters\n",
            " |      ----------\n",
            " |      X : indexable, length n_samples\n",
            " |          Must fulfill the input assumptions of the\n",
            " |          underlying estimator.\n",
            " |      \n",
            " |      Returns\n",
            " |      -------\n",
            " |      Xt : {ndarray, sparse matrix} of shape (n_samples, n_features)\n",
            " |          `X` transformed in the new space based on the estimator with\n",
            " |          the best found parameters.\n",
            " |  \n",
            " |  ----------------------------------------------------------------------\n",
            " |  Readonly properties inherited from BaseSearchCV:\n",
            " |  \n",
            " |  classes_\n",
            " |      Class labels.\n",
            " |      \n",
            " |      Only available when `refit=True` and the estimator is a classifier.\n",
            " |  \n",
            " |  n_features_in_\n",
            " |      Number of features seen during :term:`fit`.\n",
            " |      \n",
            " |      Only available when `refit=True`.\n",
            " |  \n",
            " |  ----------------------------------------------------------------------\n",
            " |  Data descriptors inherited from sklearn.base.MetaEstimatorMixin:\n",
            " |  \n",
            " |  __dict__\n",
            " |      dictionary for instance variables (if defined)\n",
            " |  \n",
            " |  __weakref__\n",
            " |      list of weak references to the object (if defined)\n",
            " |  \n",
            " |  ----------------------------------------------------------------------\n",
            " |  Methods inherited from sklearn.base.BaseEstimator:\n",
            " |  \n",
            " |  __getstate__(self)\n",
            " |  \n",
            " |  __repr__(self, N_CHAR_MAX=700)\n",
            " |      Return repr(self).\n",
            " |  \n",
            " |  __setstate__(self, state)\n",
            " |  \n",
            " |  get_params(self, deep=True)\n",
            " |      Get parameters for this estimator.\n",
            " |      \n",
            " |      Parameters\n",
            " |      ----------\n",
            " |      deep : bool, default=True\n",
            " |          If True, will return the parameters for this estimator and\n",
            " |          contained subobjects that are estimators.\n",
            " |      \n",
            " |      Returns\n",
            " |      -------\n",
            " |      params : dict\n",
            " |          Parameter names mapped to their values.\n",
            " |  \n",
            " |  set_params(self, **params)\n",
            " |      Set the parameters of this estimator.\n",
            " |      \n",
            " |      The method works on simple estimators as well as on nested objects\n",
            " |      (such as :class:`~sklearn.pipeline.Pipeline`). The latter have\n",
            " |      parameters of the form ``<component>__<parameter>`` so that it's\n",
            " |      possible to update each component of a nested object.\n",
            " |      \n",
            " |      Parameters\n",
            " |      ----------\n",
            " |      **params : dict\n",
            " |          Estimator parameters.\n",
            " |      \n",
            " |      Returns\n",
            " |      -------\n",
            " |      self : estimator instance\n",
            " |          Estimator instance.\n",
            "\n"
          ]
        }
      ],
      "source": [
        "from sklearn.model_selection import GridSearchCV\n",
        "help(GridSearchCV)"
      ]
    },
    {
      "cell_type": "markdown",
      "metadata": {
        "id": "WzFOwAC6eZRr"
      },
      "source": [
        "2. Define the parameters you want to test during your cross validation."
      ]
    },
    {
      "cell_type": "code",
      "execution_count": 46,
      "metadata": {
        "colab": {
          "base_uri": "https://localhost:8080/"
        },
        "id": "214RqFyReZRr",
        "outputId": "2757f6cf-0939-4f9e-a2a5-fafeafd8fbc4"
      },
      "outputs": [
        {
          "output_type": "execute_result",
          "data": {
            "text/plain": [
              "{'alpha': array([1.00000000e-03, 4.64158883e-03, 2.15443469e-02, 1.00000000e-01,\n",
              "        4.64158883e-01, 2.15443469e+00, 1.00000000e+01, 4.64158883e+01,\n",
              "        2.15443469e+02, 1.00000000e+03])}"
            ]
          },
          "metadata": {},
          "execution_count": 46
        }
      ],
      "source": [
        "parameters = {\"alpha\" : np.logspace(-3,3,10)}\n",
        "parameters"
      ]
    },
    {
      "cell_type": "markdown",
      "metadata": {
        "id": "_x8wlHx5eZRr"
      },
      "source": [
        "3. Run your grid search cross validation and print the MAE for test and train set. What is the  best value of $\\lambda$ according to your Cross Validation ?"
      ]
    },
    {
      "cell_type": "code",
      "execution_count": 47,
      "metadata": {
        "colab": {
          "base_uri": "https://localhost:8080/"
        },
        "id": "oJT5Iw1UeZRr",
        "outputId": "af73bd2a-b8c3-4b95-e7ec-e3221e0f4aad"
      },
      "outputs": [
        {
          "output_type": "stream",
          "name": "stdout",
          "text": [
            "Best alpha {'alpha': 10.0}\n",
            "Mean:  0.5362150224681151\n"
          ]
        }
      ],
      "source": [
        "ridge = Ridge()\n",
        "cv = GridSearchCV(ridge, parameters, scoring='neg_mean_absolute_error')\n",
        "cv.fit(X_train_norm, y_train)\n",
        "\n",
        "print(\"Best alpha\", cv.best_params_)\n",
        "\n",
        "y_test_pred = cv.best_estimator_.predict(X_test_norm)\n",
        "print(\"Mean: \", mean_absolute_error(y_test, y_test_pred))"
      ]
    },
    {
      "cell_type": "markdown",
      "metadata": {
        "id": "Fl0AWDiBeZRr"
      },
      "source": [
        "4. What is the criterion used by `GridSearchCV` to determine the best $\\lambda$ ? Change it to fit our measure of performance, i.e. the MAE."
      ]
    },
    {
      "cell_type": "code",
      "execution_count": 48,
      "metadata": {
        "colab": {
          "base_uri": "https://localhost:8080/"
        },
        "id": "GhgEYo2CeZRs",
        "outputId": "7432fd53-ce24-43f5-e43e-8deb4bf9e316"
      },
      "outputs": [
        {
          "output_type": "execute_result",
          "data": {
            "text/plain": [
              "{'mean_fit_time': array([0.00561719, 0.00337439, 0.00326142, 0.00323644, 0.00329113,\n",
              "        0.00590162, 0.00347462, 0.00614343, 0.00468855, 0.00334396]),\n",
              " 'std_fit_time': array([2.73255867e-03, 8.55513371e-05, 4.27520081e-05, 3.72899463e-05,\n",
              "        6.94182214e-05, 2.49288225e-03, 4.79996704e-05, 5.06588271e-03,\n",
              "        2.60531361e-03, 1.26734903e-04]),\n",
              " 'mean_score_time': array([0.00061493, 0.00059242, 0.00055237, 0.00054874, 0.00055814,\n",
              "        0.00096521, 0.00057535, 0.00074086, 0.00062485, 0.00055475]),\n",
              " 'std_score_time': array([6.46919544e-05, 6.28484037e-05, 3.14178881e-05, 9.97900671e-06,\n",
              "        2.53697982e-05, 5.07399003e-04, 1.38310726e-05, 2.14854940e-04,\n",
              "        8.37585066e-05, 2.64957604e-05]),\n",
              " 'param_alpha': masked_array(data=[0.001, 0.004641588833612777, 0.021544346900318832, 0.1,\n",
              "                    0.46415888336127775, 2.154434690031882, 10.0,\n",
              "                    46.41588833612773, 215.44346900318823, 1000.0],\n",
              "              mask=[False, False, False, False, False, False, False, False,\n",
              "                    False, False],\n",
              "        fill_value='?',\n",
              "             dtype=object),\n",
              " 'params': [{'alpha': 0.001},\n",
              "  {'alpha': 0.004641588833612777},\n",
              "  {'alpha': 0.021544346900318832},\n",
              "  {'alpha': 0.1},\n",
              "  {'alpha': 0.46415888336127775},\n",
              "  {'alpha': 2.154434690031882},\n",
              "  {'alpha': 10.0},\n",
              "  {'alpha': 46.41588833612773},\n",
              "  {'alpha': 215.44346900318823},\n",
              "  {'alpha': 1000.0}],\n",
              " 'split0_test_score': array([-0.52290397, -0.52290395, -0.52290385, -0.52290339, -0.52290127,\n",
              "        -0.52289148, -0.52285268, -0.52281124, -0.5252642 , -0.54835331]),\n",
              " 'split1_test_score': array([-0.52781994, -0.52781992, -0.52781982, -0.52781935, -0.5278172 ,\n",
              "        -0.52780803, -0.52776742, -0.52779059, -0.53019664, -0.55316311]),\n",
              " 'split2_test_score': array([-0.53712269, -0.53712271, -0.5371228 , -0.53712324, -0.53712524,\n",
              "        -0.53713456, -0.53717902, -0.53747701, -0.54039412, -0.56135767]),\n",
              " 'split3_test_score': array([-0.53150804, -0.53150801, -0.53150788, -0.53150729, -0.53150452,\n",
              "        -0.53149175, -0.53143785, -0.53136181, -0.53330527, -0.55420968]),\n",
              " 'split4_test_score': array([-0.51967185, -0.51967182, -0.51967167, -0.51967099, -0.51966783,\n",
              "        -0.51965322, -0.51959241, -0.51943094, -0.52105021, -0.54189006]),\n",
              " 'mean_test_score': array([-0.5278053 , -0.52780528, -0.5278052 , -0.52780485, -0.52780321,\n",
              "        -0.52779581, -0.52776587, -0.52777432, -0.53004209, -0.55179477]),\n",
              " 'std_test_score': array([0.00617576, 0.00617578, 0.00617585, 0.00617616, 0.0061776 ,\n",
              "        0.00618428, 0.00621347, 0.00634439, 0.00665611, 0.00646684]),\n",
              " 'rank_test_score': array([ 8,  7,  6,  5,  4,  3,  1,  2,  9, 10], dtype=int32)}"
            ]
          },
          "metadata": {},
          "execution_count": 48
        }
      ],
      "source": [
        "cv.cv_results_"
      ]
    },
    {
      "cell_type": "markdown",
      "metadata": {
        "id": "JvaKO3YheZRs"
      },
      "source": [
        "## A full model design\n",
        "Despite the choice of $\\lambda$ is made without bias, the performance has been evaluated on only one split of the data. This particular split may be subject to exceptions and may not constitute a good estimation of the predictive ability of your model. The solution here is to repeat splits so as we average the performances of our model over different train and test sets.\n",
        "\n",
        "1. Check the documentation of `ShuffleSplit` class in `sklearn.model_selection`"
      ]
    },
    {
      "cell_type": "code",
      "execution_count": 49,
      "metadata": {
        "colab": {
          "base_uri": "https://localhost:8080/"
        },
        "id": "DC5A76oKeZRs",
        "outputId": "fcb215d5-60ea-4147-c388-75e50b11473a"
      },
      "outputs": [
        {
          "output_type": "stream",
          "name": "stdout",
          "text": [
            "Help on class ShuffleSplit in module sklearn.model_selection._split:\n",
            "\n",
            "class ShuffleSplit(BaseShuffleSplit)\n",
            " |  ShuffleSplit(n_splits=10, *, test_size=None, train_size=None, random_state=None)\n",
            " |  \n",
            " |  Random permutation cross-validator\n",
            " |  \n",
            " |  Yields indices to split data into training and test sets.\n",
            " |  \n",
            " |  Note: contrary to other cross-validation strategies, random splits\n",
            " |  do not guarantee that all folds will be different, although this is\n",
            " |  still very likely for sizeable datasets.\n",
            " |  \n",
            " |  Read more in the :ref:`User Guide <ShuffleSplit>`.\n",
            " |  \n",
            " |  Parameters\n",
            " |  ----------\n",
            " |  n_splits : int, default=10\n",
            " |      Number of re-shuffling & splitting iterations.\n",
            " |  \n",
            " |  test_size : float or int, default=None\n",
            " |      If float, should be between 0.0 and 1.0 and represent the proportion\n",
            " |      of the dataset to include in the test split. If int, represents the\n",
            " |      absolute number of test samples. If None, the value is set to the\n",
            " |      complement of the train size. If ``train_size`` is also None, it will\n",
            " |      be set to 0.1.\n",
            " |  \n",
            " |  train_size : float or int, default=None\n",
            " |      If float, should be between 0.0 and 1.0 and represent the\n",
            " |      proportion of the dataset to include in the train split. If\n",
            " |      int, represents the absolute number of train samples. If None,\n",
            " |      the value is automatically set to the complement of the test size.\n",
            " |  \n",
            " |  random_state : int, RandomState instance or None, default=None\n",
            " |      Controls the randomness of the training and testing indices produced.\n",
            " |      Pass an int for reproducible output across multiple function calls.\n",
            " |      See :term:`Glossary <random_state>`.\n",
            " |  \n",
            " |  Examples\n",
            " |  --------\n",
            " |  >>> import numpy as np\n",
            " |  >>> from sklearn.model_selection import ShuffleSplit\n",
            " |  >>> X = np.array([[1, 2], [3, 4], [5, 6], [7, 8], [3, 4], [5, 6]])\n",
            " |  >>> y = np.array([1, 2, 1, 2, 1, 2])\n",
            " |  >>> rs = ShuffleSplit(n_splits=5, test_size=.25, random_state=0)\n",
            " |  >>> rs.get_n_splits(X)\n",
            " |  5\n",
            " |  >>> print(rs)\n",
            " |  ShuffleSplit(n_splits=5, random_state=0, test_size=0.25, train_size=None)\n",
            " |  >>> for train_index, test_index in rs.split(X):\n",
            " |  ...     print(\"TRAIN:\", train_index, \"TEST:\", test_index)\n",
            " |  TRAIN: [1 3 0 4] TEST: [5 2]\n",
            " |  TRAIN: [4 0 2 5] TEST: [1 3]\n",
            " |  TRAIN: [1 2 4 0] TEST: [3 5]\n",
            " |  TRAIN: [3 4 1 0] TEST: [5 2]\n",
            " |  TRAIN: [3 5 1 0] TEST: [2 4]\n",
            " |  >>> rs = ShuffleSplit(n_splits=5, train_size=0.5, test_size=.25,\n",
            " |  ...                   random_state=0)\n",
            " |  >>> for train_index, test_index in rs.split(X):\n",
            " |  ...     print(\"TRAIN:\", train_index, \"TEST:\", test_index)\n",
            " |  TRAIN: [1 3 0] TEST: [5 2]\n",
            " |  TRAIN: [4 0 2] TEST: [1 3]\n",
            " |  TRAIN: [1 2 4] TEST: [3 5]\n",
            " |  TRAIN: [3 4 1] TEST: [5 2]\n",
            " |  TRAIN: [3 5 1] TEST: [2 4]\n",
            " |  \n",
            " |  Method resolution order:\n",
            " |      ShuffleSplit\n",
            " |      BaseShuffleSplit\n",
            " |      builtins.object\n",
            " |  \n",
            " |  Methods defined here:\n",
            " |  \n",
            " |  __init__(self, n_splits=10, *, test_size=None, train_size=None, random_state=None)\n",
            " |      Initialize self.  See help(type(self)) for accurate signature.\n",
            " |  \n",
            " |  ----------------------------------------------------------------------\n",
            " |  Data and other attributes defined here:\n",
            " |  \n",
            " |  __abstractmethods__ = frozenset()\n",
            " |  \n",
            " |  ----------------------------------------------------------------------\n",
            " |  Methods inherited from BaseShuffleSplit:\n",
            " |  \n",
            " |  __repr__(self)\n",
            " |      Return repr(self).\n",
            " |  \n",
            " |  get_n_splits(self, X=None, y=None, groups=None)\n",
            " |      Returns the number of splitting iterations in the cross-validator\n",
            " |      \n",
            " |      Parameters\n",
            " |      ----------\n",
            " |      X : object\n",
            " |          Always ignored, exists for compatibility.\n",
            " |      \n",
            " |      y : object\n",
            " |          Always ignored, exists for compatibility.\n",
            " |      \n",
            " |      groups : object\n",
            " |          Always ignored, exists for compatibility.\n",
            " |      \n",
            " |      Returns\n",
            " |      -------\n",
            " |      n_splits : int\n",
            " |          Returns the number of splitting iterations in the cross-validator.\n",
            " |  \n",
            " |  split(self, X, y=None, groups=None)\n",
            " |      Generate indices to split data into training and test set.\n",
            " |      \n",
            " |      Parameters\n",
            " |      ----------\n",
            " |      X : array-like of shape (n_samples, n_features)\n",
            " |          Training data, where `n_samples` is the number of samples\n",
            " |          and `n_features` is the number of features.\n",
            " |      \n",
            " |      y : array-like of shape (n_samples,)\n",
            " |          The target variable for supervised learning problems.\n",
            " |      \n",
            " |      groups : array-like of shape (n_samples,), default=None\n",
            " |          Group labels for the samples used while splitting the dataset into\n",
            " |          train/test set.\n",
            " |      \n",
            " |      Yields\n",
            " |      ------\n",
            " |      train : ndarray\n",
            " |          The training set indices for that split.\n",
            " |      \n",
            " |      test : ndarray\n",
            " |          The testing set indices for that split.\n",
            " |      \n",
            " |      Notes\n",
            " |      -----\n",
            " |      Randomized CV splitters may return different results for each call of\n",
            " |      split. You can make the results identical by setting `random_state`\n",
            " |      to an integer.\n",
            " |  \n",
            " |  ----------------------------------------------------------------------\n",
            " |  Data descriptors inherited from BaseShuffleSplit:\n",
            " |  \n",
            " |  __dict__\n",
            " |      dictionary for instance variables (if defined)\n",
            " |  \n",
            " |  __weakref__\n",
            " |      list of weak references to the object (if defined)\n",
            "\n"
          ]
        }
      ],
      "source": [
        "from sklearn.model_selection import ShuffleSplit\n",
        "help(ShuffleSplit)"
      ]
    },
    {
      "cell_type": "markdown",
      "metadata": {
        "id": "akXG3UAueZRs"
      },
      "source": [
        "2. Estimate the performance of your model with 10 shuffle splits on your data. Take care to correctly normalize your data. Your code here must do everything since the beginning, ie. loading the data, splitting, cv, prediction, etc... "
      ]
    },
    {
      "cell_type": "code",
      "execution_count": 50,
      "metadata": {
        "colab": {
          "base_uri": "https://localhost:8080/"
        },
        "id": "SGoB7HceeZRs",
        "outputId": "409e0943-5581-4ebf-8893-ee5421f480d8"
      },
      "outputs": [
        {
          "output_type": "stream",
          "name": "stdout",
          "text": [
            "Final performance on test set: MAE = 0.5329416451561406 Standard deviation: 0.008682330679343344\n"
          ]
        }
      ],
      "source": [
        "X,y = fetch_california_housing(return_X_y=True)\n",
        "\n",
        "splits = ShuffleSplit(n_splits=10, test_size=.2)\n",
        "scaler = StandardScaler()\n",
        "ridge = Ridge()\n",
        "parameters = {'alpha' : np.logspace(-3,3,10)}\n",
        "cv = GridSearchCV(ridge, parameters, scoring='neg_mean_absolute_error')\n",
        "\n",
        "performances = []\n",
        "\n",
        "for train_index, test_index in splits.split(X_train):\n",
        "  X_train = X[train_index,:]\n",
        "  y_train = y[train_index]\n",
        "\n",
        "  X_test = X[test_index,:]\n",
        "  y_test = y[test_index]\n",
        "\n",
        "  scaler.fit(X_train)\n",
        "  X_train_norm = scaler.transform(X_train)\n",
        "  X_test_norm = scaler.transform(X_test)\n",
        "\n",
        "  cv.fit(X_train_norm, y_train)\n",
        "  performances.append(np.mean(np.abs(cv.predict(X_test_norm)-y_test)))\n",
        "\n",
        "print(f\"Final performance on test set: MAE = {np.mean(performances)} Standard deviation: {np.std(performances)}\")"
      ]
    },
    {
      "cell_type": "markdown",
      "metadata": {
        "id": "rr4_dgjVeZRs"
      },
      "source": [
        "# Lasso Regression\n",
        "An alternative to Ridge Regression is the Lasso Regression ([check here](https://scikit-learn.org/stable/modules/generated/sklearn.linear_model.Lasso.html)). Lasso Regression redefines the penalization term to the L1-norm of $\\mathbf{w}$. This penalization ensures a sparsity constraint on the coefficients of $\\mathbf{w}$. \n",
        "\n",
        "1. Learn your model using a Lasso Regression, available with the class `Lasso` of module `sklearn.linear_model`."
      ]
    },
    {
      "cell_type": "code",
      "execution_count": 51,
      "metadata": {
        "colab": {
          "base_uri": "https://localhost:8080/"
        },
        "id": "Yg-446g_eZRs",
        "outputId": "6a8017dc-52ad-47c7-d118-07cec4f82fb3"
      },
      "outputs": [
        {
          "output_type": "stream",
          "name": "stdout",
          "text": [
            "0.5358627067147155\n"
          ]
        }
      ],
      "source": [
        "from sklearn.linear_model import Lasso\n",
        "\n",
        "regressor = Lasso(alpha=0.01)\n",
        "regressor.fit(X_train_norm, y_train)\n",
        "\n",
        "print(np.mean(np.abs(regressor.predict(X_test_norm)-y_test)))"
      ]
    },
    {
      "cell_type": "markdown",
      "metadata": {
        "id": "itY92UaQeZRs"
      },
      "source": [
        "2. Check the regularization path, i.e. the evolution of $\\mathbf{w}$ as $\\lambda$ increases. Do you see the sparsity ?\n"
      ]
    },
    {
      "cell_type": "code",
      "execution_count": 52,
      "metadata": {
        "colab": {
          "base_uri": "https://localhost:8080/",
          "height": 623
        },
        "id": "wyP1IWZJeZRs",
        "outputId": "fec405e3-7167-4cae-9f76-f9b26946bba5"
      },
      "outputs": [
        {
          "output_type": "execute_result",
          "data": {
            "text/plain": [
              "Text(0, 0.5, 'Value of each coefficient w')"
            ]
          },
          "metadata": {},
          "execution_count": 52
        },
        {
          "output_type": "display_data",
          "data": {
            "text/plain": [
              "<Figure size 1080x720 with 1 Axes>"
            ],
            "image/png": "[encoded data removed]"
          },
          "metadata": {
            "needs_background": "light"
          }
        }
      ],
      "source": [
        "alphas = np.logspace(-3,3,10)\n",
        "coefs = np.zeros((10,8))\n",
        "\n",
        "for i, alpha in enumerate(alphas):\n",
        "  regressor = Lasso(alpha=alpha)\n",
        "  regressor.fit(X_train_norm, y_train)\n",
        "  coefs[i,:] = regressor.coef_\n",
        "\n",
        "\n",
        "plt.subplots(figsize=(15,10))\n",
        "for i in range(8):\n",
        "  plt.plot(coefs[:,i], label=f\"feature {i+1}\")\n",
        "plt.legend()\n",
        "plt.xlabel(\"Index of lambda value\")\n",
        "plt.ylabel(\"Value of each coefficient w\")"
      ]
    },
    {
      "cell_type": "markdown",
      "metadata": {
        "id": "iWOaa1wWeZRs"
      },
      "source": [
        "3. Build and tune completly your Lasso model and compare its final performance with Ridge Regression"
      ]
    },
    {
      "cell_type": "code",
      "execution_count": 53,
      "metadata": {
        "colab": {
          "base_uri": "https://localhost:8080/",
          "height": 641
        },
        "id": "hY1Oj_MHeZRt",
        "outputId": "aaedd61a-1069-487d-8669-d44c4ef57c8e"
      },
      "outputs": [
        {
          "output_type": "stream",
          "name": "stdout",
          "text": [
            "0.5330827705207912\n"
          ]
        },
        {
          "output_type": "execute_result",
          "data": {
            "text/plain": [
              "Text(0, 0.5, 'Value of each coefficient w')"
            ]
          },
          "metadata": {},
          "execution_count": 53
        },
        {
          "output_type": "display_data",
          "data": {
            "text/plain": [
              "<Figure size 1080x720 with 1 Axes>"
            ],
            "image/png": "[encoded data removed]"
          },
          "metadata": {
            "needs_background": "light"
          }
        }
      ],
      "source": [
        "from sklearn.linear_model import Ridge\n",
        "\n",
        "regressor = Ridge(alpha=0.01)\n",
        "regressor.fit(X_train_norm, y_train)\n",
        "\n",
        "print(np.mean(np.abs(regressor.predict(X_test_norm)-y_test)))\n",
        "\n",
        "alphas = np.logspace(-3,3,10)\n",
        "coefs = np.zeros((10,8))\n",
        "\n",
        "for i, alpha in enumerate(alphas):\n",
        "  regressor = Ridge(alpha=alpha)\n",
        "  regressor.fit(X_train_norm, y_train)\n",
        "  coefs[i,:] = regressor.coef_\n",
        "\n",
        "\n",
        "plt.subplots(figsize=(15,10))\n",
        "for i in range(8):\n",
        "  plt.plot(coefs[:,i], label=f\"feature {i+1}\")\n",
        "plt.legend()\n",
        "plt.xlabel(\"Index of lambda value\")\n",
        "plt.ylabel(\"Value of each coefficient w\")"
      ]
    },
    {
      "cell_type": "markdown",
      "metadata": {
        "id": "ICPdO_1heZRt"
      },
      "source": [
        "# Bonus section\n",
        "\n",
        "If you succeed to previous parts, here's some suggestions to continue and go deeper in your work:\n",
        "\n",
        " 1. Use your implementation of Ridge Regression. Compare the computationnal times.\n",
        " \n",
        " 2. Implement your own Cross Validation strategy. `sklearn` provides beautiful tools but it may be interesting to implement yourself this protocol to understand it deeply.\n",
        " \n",
        " 3. Make the derivation and implement your own Lasso Regression. \n",
        " \n",
        " 4. Implement and evaluate your model on a diabetes dataset `sklearn.datasets.load_diabetes`. Take care, some columns correspond to qualitative features. [link](https://scikit-learn.org/stable/modules/generated/sklearn.datasets.load_diabetes.html#sklearn.datasets.load_diabetes)\n",
        " "
      ]
    },
    {
      "cell_type": "code",
      "execution_count": 55,
      "metadata": {
        "id": "oEzaSP5XeZRt"
      },
      "outputs": [],
      "source": [
        "from sklearn.datasets import load_diabetes\n",
        "X, y = load_diabetes(return_X_y=True)\n",
        "\n",
        "X_train, X_test, y_train, y_test = train_test_split(X,y, test_size=0.2)\n",
        "train_mean = np.mean(X_train, axis=0)\n",
        "train_std = np.std(X_train, axis=0)\n",
        "\n",
        "X_train_norm = (X_train - train_mean)/train_std\n",
        "X_test_norm = (X_test - train_mean)/train_std"
      ]
    },
    {
      "cell_type": "code",
      "source": [
        "regressor = Ridge()\n",
        "\n",
        "regressor.fit(X_train_norm, y_train)\n",
        "y_train_pred = regressor.predict(X_train_norm)\n",
        "\n",
        "mae_train = mean_absolute_error(y_train, y_train_pred)\n",
        "mae_train"
      ],
      "metadata": {
        "colab": {
          "base_uri": "https://localhost:8080/"
        },
        "id": "DWehNjZv6v2-",
        "outputId": "b104d8da-600b-4418-899f-ff205665fe34"
      },
      "execution_count": 56,
      "outputs": [
        {
          "output_type": "execute_result",
          "data": {
            "text/plain": [
              "43.20195238380604"
            ]
          },
          "metadata": {},
          "execution_count": 56
        }
      ]
    },
    {
      "cell_type": "code",
      "source": [
        "y_test_pred = regressor.predict(X_test_norm)\n",
        "\n",
        "mae_test = mean_absolute_error(y_test, y_test_pred)\n",
        "mae_test"
      ],
      "metadata": {
        "colab": {
          "base_uri": "https://localhost:8080/"
        },
        "id": "JQqBoO36I3tC",
        "outputId": "baf233ab-4ae5-422d-a54a-371891d4f22f"
      },
      "execution_count": 57,
      "outputs": [
        {
          "output_type": "execute_result",
          "data": {
            "text/plain": [
              "44.37222135656193"
            ]
          },
          "metadata": {},
          "execution_count": 57
        }
      ]
    },
    {
      "cell_type": "code",
      "source": [
        "parameters = {\"alpha\" : np.logspace(-3,3,10)}\n",
        "\n",
        "ridge = Ridge()\n",
        "cv = GridSearchCV(ridge, parameters, scoring='neg_mean_absolute_error')\n",
        "cv.fit(X_train_norm, y_train)\n",
        "\n",
        "print(\"Best alpha\", cv.best_params_)\n",
        "\n",
        "y_test_pred = cv.best_estimator_.predict(X_test_norm)\n",
        "print(\"Mean: \", mean_absolute_error(y_test, y_test_pred))"
      ],
      "metadata": {
        "colab": {
          "base_uri": "https://localhost:8080/"
        },
        "id": "xqS1HfKXI6xR",
        "outputId": "d09c3c74-cb6f-4b90-a19d-e26458e8a314"
      },
      "execution_count": 58,
      "outputs": [
        {
          "output_type": "stream",
          "name": "stdout",
          "text": [
            "Best alpha {'alpha': 10.0}\n",
            "Mean:  44.23329028240641\n"
          ]
        }
      ]
    },
    {
      "cell_type": "code",
      "source": [
        "lasso = Lasso()\n",
        "\n",
        "lasso.fit(X_train_norm,y_train)\n",
        "print(mean_absolute_error(y_train, lasso.predict(X_train)))\n",
        "print(mean_absolute_error(y_test, lasso.predict(X_test)))"
      ],
      "metadata": {
        "colab": {
          "base_uri": "https://localhost:8080/"
        },
        "id": "RfFZT123JJH9",
        "outputId": "4dd89b47-f7c5-4c4c-8f02-71e5292891e8"
      },
      "execution_count": 65,
      "outputs": [
        {
          "output_type": "stream",
          "name": "stdout",
          "text": [
            "64.17072244502452\n",
            "64.10418211037269\n"
          ]
        }
      ]
    },
    {
      "cell_type": "code",
      "source": [],
      "metadata": {
        "id": "s3I4dk4HJ8R6"
      },
      "execution_count": null,
      "outputs": []
    }
  ],
  "metadata": {
    "kernelspec": {
      "display_name": "Python 3 (ipykernel)",
      "language": "python",
      "name": "python3"
    },
    "language_info": {
      "codemirror_mode": {
        "name": "ipython",
        "version": 3
      },
      "file_extension": ".py",
      "mimetype": "text/x-python",
      "name": "python",
      "nbconvert_exporter": "python",
      "pygments_lexer": "ipython3",
      "version": "3.8.12"
    },
    "colab": {
      "provenance": []
    }
  },
  "nbformat": 4,
  "nbformat_minor": 0
}